{
  "nbformat": 4,
  "nbformat_minor": 0,
  "metadata": {
    "colab": {
      "provenance": [],
      "gpuType": "T4",
      "private_outputs": true,
      "include_colab_link": true
    },
    "kernelspec": {
      "name": "python3",
      "display_name": "Python 3"
    },
    "language_info": {
      "name": "python"
    },
    "accelerator": "GPU"
  },
  "cells": [
    {
      "cell_type": "markdown",
      "metadata": {
        "id": "view-in-github",
        "colab_type": "text"
      },
      "source": [
        "<a href=\"https://colab.research.google.com/github/Pharseus/Machine-Learning/blob/main/Week_06_MLP_Keras.ipynb\" target=\"_parent\"><img src=\"https://colab.research.google.com/assets/colab-badge.svg\" alt=\"Open In Colab\"/></a>"
      ]
    },
    {
      "cell_type": "markdown",
      "source": [
        "# 06. MLP with Keras\n",
        "Copy this notebook to drive for submission"
      ],
      "metadata": {
        "id": "pcWh6kKiJkNt"
      }
    },
    {
      "cell_type": "markdown",
      "source": [
        "# Keras\n",
        "https://keras.io/\n",
        "\n",
        "Keras is a high-level API for building and training deep learning models. It is known for its user-friendly, modular, and extensible nature, making it accessible for both beginners and experienced practitioners.\n",
        "\n",
        "**Why Keras is a good choice for machine learning:**\n",
        "\n",
        "*   **Ease of Use:** Keras has a simple and consistent API that reduces cognitive load and makes it easy to quickly build and prototype neural networks.\n",
        "*   **Modularity:** Models are built by connecting configurable building blocks (layers, optimizers, loss functions, etc.), allowing for flexible and creative model architectures.\n",
        "*   **Extensibility:** You can easily create custom layers, metrics, and other components to tailor models to specific needs.\n",
        "*   **Integration with TensorFlow:** Keras is the official high-level API for TensorFlow, providing seamless integration with TensorFlow's powerful features and scalability.\n",
        "*   **Large Community and Resources:** Keras has a vast and active community, offering extensive documentation, tutorials, and pre-trained models.\n",
        "\n",
        "These features make Keras a popular choice for a wide range of machine learning tasks, from simple classification to complex image and natural language processing."
      ],
      "metadata": {
        "id": "OLSuqPWNDS0N"
      }
    },
    {
      "cell_type": "markdown",
      "metadata": {
        "id": "d9a2c053"
      },
      "source": [
        "Let's start by importing the necessary libraries:\n",
        "1. pandas for data manipulation `import pandas as pd`\n",
        "2. Keras for building and training the deep learning model `import keras`, and\n",
        "3. Matplotlib for visualization. `import matplotlib.pyplot as plt`"
      ]
    },
    {
      "cell_type": "code",
      "execution_count": null,
      "metadata": {
        "id": "rKXU_aHB6Xni"
      },
      "outputs": [],
      "source": [
        "#@title **TO DO** Import the required library\n",
        "import pandas as pd\n",
        "import keras\n",
        "import matplotlib.pyplot as plt"
      ]
    },
    {
      "cell_type": "markdown",
      "source": [
        "#1. Dataset"
      ],
      "metadata": {
        "id": "N3oZXfuA634A"
      }
    },
    {
      "cell_type": "markdown",
      "metadata": {
        "id": "e97bafbd"
      },
      "source": [
        "## Load csv using pandas\n",
        "\n",
        "The pandas library provides the `read_csv()` function, which is a convenient way to load data from CSV files into a DataFrame. You simply provide the path to the CSV file as an argument to this function. You can find more information in the [pandas documentation](https://pandas.pydata.org/pandas-docs/stable/reference/api/pandas.read_csv.html).\n",
        "\n",
        "For your information, this is what exists inside the csv\n",
        "\n",
        "```\n",
        "6,0,0,0,0,0,0,0,0,0,0,0,0,0,0,0,0,0,0,0,...\n",
        "5,0,0,0,0,0,0,0,0,0,0,0,0,0,0,0,0,0,0,0,...\n",
        "7,0,0,0,0,0,0,0,0,0,0,0,0,0,0,0,0,0,0,0,...\n",
        "9,0,0,0,0,0,0,0,0,0,0,0,0,0,0,0,0,0,0,0,...\n",
        "5,0,0,0,0,0,0,0,0,0,0,0,0,0,0,0,0,0,0,0,...\n",
        "```\n",
        "\n",
        "The first column is the target indicating which handritten number is the data represents\n",
        "\n",
        "The second to last column is the pixel values [0, 255] in a total of 784 column &rarr; 28 &times; 28 pixel grayscale image\n",
        "\n",
        "![image.png](data:image/png;base64,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)"
      ]
    },
    {
      "cell_type": "markdown",
      "source": [
        "## **TO DO** Load the data from `sample_data/mnist_train_small.csv` using pandas as train data"
      ],
      "metadata": {
        "id": "lGaB-EeYCttd"
      }
    },
    {
      "cell_type": "code",
      "source": [
        "train = pd.read_csv('sample_data/mnist_train_small.csv')\n",
        "train.head()"
      ],
      "metadata": {
        "id": "CWoIB1FwHexg"
      },
      "execution_count": null,
      "outputs": []
    },
    {
      "cell_type": "markdown",
      "source": [
        "## **TO DO** Load the data from `sample_data/mnist_test.csv` using pandas as test data"
      ],
      "metadata": {
        "id": "IQlKxBA1ixMU"
      }
    },
    {
      "cell_type": "code",
      "source": [
        "test = pd.read_csv('sample_data/mnist_test.csv')\n",
        "test.head()"
      ],
      "metadata": {
        "id": "YlMXN77D6g1p"
      },
      "execution_count": null,
      "outputs": []
    },
    {
      "cell_type": "markdown",
      "source": [
        "Let's try to display a sample data in index 5 and what is the target"
      ],
      "metadata": {
        "id": "ne8hp8DwkGmb"
      }
    },
    {
      "cell_type": "code",
      "source": [
        "data_index = 5\n",
        "\n",
        "print(f\"Target : {train.iloc[data_index,0]}\")\n",
        "plt.imshow(train.iloc[data_index,1:].values.reshape(28,-1), cmap=\"gray\")\n",
        "plt.show()"
      ],
      "metadata": {
        "id": "SWu7RMEVI7rW"
      },
      "execution_count": null,
      "outputs": []
    },
    {
      "cell_type": "markdown",
      "source": [
        "Now we have to split between the input data and target data from the train and test data"
      ],
      "metadata": {
        "id": "OkFYGrQtkgZ7"
      }
    },
    {
      "cell_type": "code",
      "source": [
        "train_x = train.iloc[:,1:]\n",
        "train_y = train.iloc[:, 0]\n",
        "test_x = test.iloc[:,1:]\n",
        "test_y = test.iloc[:, 0]"
      ],
      "metadata": {
        "id": "kO3O3Z8nKuLz"
      },
      "execution_count": null,
      "outputs": []
    },
    {
      "cell_type": "markdown",
      "source": [
        "#2. Model"
      ],
      "metadata": {
        "id": "1npLngX7652G"
      }
    },
    {
      "cell_type": "markdown",
      "source": [
        "The model or classifier must be created to be trained"
      ],
      "metadata": {
        "id": "7SgOJoeTDt14"
      }
    },
    {
      "cell_type": "markdown",
      "metadata": {
        "id": "c964fd6f"
      },
      "source": [
        "There are three ways to create Keras models:\n",
        "\n",
        "1.  **Sequential API:** This is the simplest way to build models, where layers are stacked in a linear fashion. It's suitable for simple feedforward networks.\n",
        "2.  **Functional API:** This allows for more complex model architectures with multiple inputs, outputs, and shared layers, as demonstrated above.\n",
        "3.  **Subclassing API:** This provides the most flexibility, allowing you to define your own custom model class by subclassing `tf.keras.Model`. This is useful for models with custom training loops or complex internal logic.\n",
        "\n",
        "You can find more information about these methods in the [Keras Models documentation](https://keras.io/api/models/).\n"
      ]
    },
    {
      "cell_type": "markdown",
      "metadata": {
        "id": "06e85969"
      },
      "source": [
        "## Functional API\n",
        "\n",
        "The Keras functional API is a way to create models that are more flexible than the `Sequential` API. It allows you to define models where layers are connected in more complex ways, such as multi-input or multi-output models, or models with shared layers.\n",
        "\n",
        "To use the functional API, you create input layers using `keras.Input` ([documentation](https://keras.io/api/layers/input_and_preprocessing/input_layer/)), then define the layers and connect them by calling layers on the inputs or outputs of other layers. Finally, you create the model using `keras.Model` ([documentation](https://keras.io/api/models/model/)), specifying the input and output layers.\n",
        "\n",
        "Here is an example of creating an MLP with :\n",
        "1.  An **Input layer** that accepts 10 features. You can learn more about the Input layer in the [Keras Input layer documentation](https://keras.io/api/layers/input_and_preprocessing/input_layer/).\n",
        "2.  A **Dense layer** with 20 neuron and 'tanh' activation function. This is a hidden layer that learns complex patterns from the input data. You can find details about Dense layers in the [Keras Dense layer documentation](https://keras.io/api/layers/core_layers/dense/).\n",
        "4.  An **Output layer** with 5 neuron and 'sigmoid' activation function. The sigmoid activation ensures that the output values are probabilities that sum up to 1, representing the model's confidence in each category/class.\n",
        "\n",
        "List of available activation funcition [Activation Functions](https://keras.io/api/layers/activations/#available-activations)\n",
        "```\n",
        "def mlp():\n",
        "    # MLP Architecture\n",
        "    inputs = keras.Input(shape=(10,))\n",
        "    x = layers.Dense(20, activation='tanh')(inputs)\n",
        "    x = layers.Dense(5, activation='sigmoid')\n",
        "\n",
        "    # Combining into a model\n",
        "    model = keras.Model(inputs=inputs, outputs=x)\n",
        "    return model\n",
        "\n",
        "# Initializing the model\n",
        "model = mlp()\n",
        "```"
      ]
    },
    {
      "cell_type": "markdown",
      "source": [
        "## **TO DO** Create a Multilayer Perceptron (MLP) model using the Functional API\n",
        "\n",
        "Now, let's create a Multilayer Perceptron (MLP) model using the Keras Functional API. The architecture of the model will be as follows:\n",
        "\n",
        "1.  An **Input layer** that accepts the flattened image data (28 * 28 = 784 features).\n",
        "2.  A **Dense layer** with 20 neurons and 'sigmoid' activation function.\n",
        "3.  An **Output layer** with 10 neurons (one for each digit 0-9) and 'sigmoid' activation function. The sigmoid activation ensures that the output values between 1 and 0, representing the model's prediction in each digit."
      ],
      "metadata": {
        "id": "CPwH2bEEl7Lk"
      }
    },
    {
      "cell_type": "code",
      "source": [
        "from keras import layers\n",
        "\n",
        "def perceptron(input_size):\n",
        "    # Create the model here\n",
        "    inputs = keras.Input(shape=(input_size,))\n",
        "    x = layers.Dense(20, activation='sigmoid')(inputs) #chaining\n",
        "    x = layers.Dense(10, activation='sigmoid')(x)\n",
        "\n",
        "    # Combining into a model\n",
        "    model = keras.Model(inputs=inputs, outputs=x)\n",
        "    return model\n",
        "\n",
        "model.summary()\n",
        "model = perceptron(784)"
      ],
      "metadata": {
        "id": "X_Ive5JILbE8"
      },
      "execution_count": null,
      "outputs": []
    },
    {
      "cell_type": "markdown",
      "metadata": {
        "id": "84d872bd"
      },
      "source": [
        "# 3. Train\n",
        "\n",
        "In this section, we will train the model using the training data.\n",
        "\n",
        "## **TO DO** Prepare the target data\n",
        "\n",
        "Before training, we need to convert the integer target labels (`train_y`) to a one-hot encoded format using the `to_categorical` function from Keras, as our model's output layer uses 'softmax' and has 10 neurons. You can find more details about `to_categorical` in the [Keras utilities documentation](https://keras.io/api/utils/python_utils/#to_categorical).\n",
        "\n"
      ]
    },
    {
      "cell_type": "code",
      "source": [
        "from keras.utils import to_categorical\n",
        "train_y_one_hot = to_categorical(train_y)\n",
        "# print(train_y_one_hot)"
      ],
      "metadata": {
        "id": "1GtWWy3DKdGp"
      },
      "execution_count": null,
      "outputs": []
    },
    {
      "cell_type": "markdown",
      "source": [
        "\n",
        "## **TO DO** Compile the model\n",
        "\n",
        "We will compile the model using '**MeanSquaredError**' loss, the '**SGD**' optimizer with learning rate of 1e-3, and '**accuracy**' as a metric.\n",
        "\n",
        "example :\n",
        "```\n",
        "model.compile(\n",
        "    optimizer=keras.optimizers.SGD(learning_rate=1e-3),\n",
        "    loss=keras.losses.BinaryCrossentropy(),\n",
        "    metrics=[\n",
        "        keras.metrics.BinaryAccuracy(),\n",
        "        keras.metrics.FalseNegatives(),\n",
        "    ],\n",
        ")\n",
        "```\n",
        "\n",
        "See available loss classes [here](https://keras.io/api/losses/#loss-class),\n",
        "\n",
        "optimizers [here](https://keras.io/api/optimizers/),\n",
        "\n",
        "and metrics [here](https://keras.io/api/metrics/)"
      ],
      "metadata": {
        "id": "XazI7MekqeVP"
      }
    },
    {
      "cell_type": "code",
      "source": [
        "model.compile(\n",
        "    optimizer=keras.optimizers.SGD(learning_rate=0.001),\n",
        "    loss=keras.losses.MeanSquaredError(),\n",
        "    metrics=[keras.metrics.Accuracy()]\n",
        ")"
      ],
      "metadata": {
        "id": "AVwicbARJPJB"
      },
      "execution_count": null,
      "outputs": []
    },
    {
      "cell_type": "markdown",
      "source": [
        "\n",
        "## **TO DO** Train the model\n",
        "\n",
        "Finally, we will train the model using the `fit()` method with the training data, batch size, epochs, and a validation split.\n",
        "1. batch_size set it to 128\n",
        "2. epochs set it to 100\n",
        "3. validation_split set it to 0.3"
      ],
      "metadata": {
        "id": "XLMl6PJUqeHu"
      }
    },
    {
      "cell_type": "code",
      "source": [
        "batch_size = 128\n",
        "epochs = 100\n",
        "validation_split = 0.3\n",
        "\n",
        "model.fit(\n",
        "    train_x,\n",
        "    train_y_one_hot,\n",
        "    batch_size=batch_size,\n",
        "    epochs=epoch,\n",
        "    validation_split=validation_split)"
      ],
      "metadata": {
        "id": "oUd0Ppb7KYVa"
      },
      "execution_count": null,
      "outputs": []
    },
    {
      "cell_type": "code",
      "source": [
        "#@title plot the training history\n",
        "plt.figure(figsize=(12, 4))\n",
        "\n",
        "plt.subplot(1, 2, 1)\n",
        "plt.plot(model.history.history['accuracy'], label='Training Accuracy')\n",
        "plt.plot(model.history.history['val_accuracy'], label='Validation Accuracy')\n",
        "plt.title('Training and Validation Accuracy')\n",
        "plt.xlabel('Epoch')\n",
        "plt.ylabel('Accuracy')\n",
        "plt.legend()\n",
        "\n",
        "plt.subplot(1, 2, 2)\n",
        "plt.plot(model.history.history['loss'], label='Training Loss')\n",
        "plt.plot(model.history.history['val_loss'], label='Validation Loss')\n",
        "plt.title('Training and Validation Loss')\n",
        "plt.xlabel('Epoch')\n",
        "plt.ylabel('Loss')\n",
        "plt.legend()\n",
        "\n",
        "plt.tight_layout()\n",
        "plt.show()"
      ],
      "metadata": {
        "id": "ZQKfc9TzsekX"
      },
      "execution_count": null,
      "outputs": []
    },
    {
      "cell_type": "markdown",
      "metadata": {
        "id": "b13f22c5"
      },
      "source": [
        "# 4. Evaluate the Model\n",
        "\n",
        "After training the model, we need to evaluate its performance on unseen data to get an idea of how well it generalizes. We will use the test dataset that we loaded earlier for this purpose.\n",
        "\n",
        "We can use the `evaluate()` method of the Keras model to calculate the loss and metrics (like accuracy) on the test data. This method takes the test input data and the corresponding true labels as arguments."
      ]
    },
    {
      "cell_type": "code",
      "source": [
        "from sklearn.metrics import classification_report"
      ],
      "metadata": {
        "id": "SfM0F7rpCar1"
      },
      "execution_count": null,
      "outputs": []
    },
    {
      "cell_type": "code",
      "metadata": {
        "id": "302a2f68"
      },
      "source": [
        "loss, accuracy = model.evaluate(test_x, to_categorical(test_y))\n",
        "print(f\"Test Loss: {loss:.4f}\")\n",
        "print(f\"Test Accuracy: {accuracy:.4f}\")"
      ],
      "execution_count": null,
      "outputs": []
    },
    {
      "cell_type": "markdown",
      "source": [
        "# 5. Hyperparameter Testing\n",
        "Try to change hyperparameter exists in this notebook. Here are the list of hyperparameters that you can change\n",
        "\n",
        "1. MLP Architecture (number of layers and neuron) and its activation functions\n",
        "2. batch_size\n",
        "3. epochs\n",
        "4. Learning rate\n",
        "5. Loss function\n",
        "\n",
        "It is possible to achieve accuracy of 0.95 or more"
      ],
      "metadata": {
        "id": "XoXRoURwuJxA"
      }
    },
    {
      "cell_type": "code",
      "source": [
        "from keras import layers\n",
        "\n",
        "# ============================= #\n",
        "# Create the model architecture #\n",
        "# ============================= #\n",
        "\n",
        "def modified_perceptron(input_size):\n",
        "    # Create the model here\n",
        "    inputs = keras.Input(shape=(input_size,))\n",
        "    x = layers.Dense(20, activation='tanh')(inputs)\n",
        "    # x = layers.Dense(10, activation='sigmoid')(x)\n",
        "    x = layers.Dense(10, activation='softmax')(x)\n",
        "\n",
        "    # Combining into a model\n",
        "    model = keras.Model(inputs=inputs, outputs=x)\n",
        "    return model\n",
        "\n",
        "model2 = modified_perceptron(784)\n",
        "\n",
        "# ====================================== #\n",
        "# Choose the optimizer and loss function #\n",
        "# ====================================== #\n",
        "\n",
        "model2.compile(\n",
        "    optimizer=keras.optimizers.Adam(),\n",
        "    loss=keras.losses.BinaryCrossentropy(),\n",
        "    metrics=[keras.metrics.CategoricalAccuracy()]\n",
        ")\n",
        "\n",
        "# ============================ #\n",
        "# Choose other hyperparameters #\n",
        "# ============================ #\n",
        "\n",
        "batch_size = 256 #berapa banyak sampel yang diproses sekaligus sebelum model melakukan update bobot\n",
        "epochs = 200\n",
        "validation_split = 0.3\n",
        "\n",
        "# =============== #\n",
        "# Train the model #\n",
        "# =============== #\n",
        "\n",
        "model2.fit(\n",
        "    train_x,\n",
        "    train_y_one_hot,\n",
        "    batch_size=batch_size,\n",
        "    epochs=epochs,\n",
        "    validation_split=validation_split)\n",
        "\n",
        "# ============== #\n",
        "# Test the model #\n",
        "# ============== #\n",
        "\n",
        "loss, accuracy = model2.evaluate(test_x, to_categorical(test_y))\n",
        "print(f\"Test Loss: {loss:.4f}\")\n",
        "print(f\"Test Accuracy: {accuracy:.4f}\")\n",
        "\n",
        "# sigmoid + binary crossentropy menganggap tiap kelas independen → cocok untuk multi-label (misalnya gambar bisa kucing dan anjing).\n",
        "\n",
        "# softmax + categorical crossentropy menganggap hanya ada satu kelas benar per data → cocok untuk multi-class (seperti MNIST digit).\n",
        "\n"
      ],
      "metadata": {
        "id": "DQ2KDZdtKXcL"
      },
      "execution_count": null,
      "outputs": []
    },
    {
      "cell_type": "code",
      "source": [
        "#@title plot the training history\n",
        "plt.figure(figsize=(12, 4))\n",
        "\n",
        "plt.subplot(1, 2, 1)\n",
        "plt.plot(model2.history.history['categorical_accuracy'], label='Training Accuracy')\n",
        "plt.plot(model2.history.history['val_categorical_accuracy'], label='Validation Accuracy')\n",
        "plt.title('Training and Validation Accuracy')\n",
        "plt.xlabel('Epoch')\n",
        "plt.ylabel('Accuracy')\n",
        "plt.legend()\n",
        "\n",
        "plt.subplot(1, 2, 2)\n",
        "plt.plot(model2.history.history['loss'], label='Training Loss')\n",
        "plt.plot(model2.history.history['val_loss'], label='Validation Loss')\n",
        "plt.title('Training and Validation Loss')\n",
        "plt.xlabel('Epoch')\n",
        "plt.ylabel('Loss')\n",
        "plt.legend()\n",
        "\n",
        "plt.tight_layout()\n",
        "plt.show()\n",
        "\n",
        "#dalam setiap epoch terlihat bahwa accuracy semakin meningkat dan loss menurun"
      ],
      "metadata": {
        "id": "r7bXojfFLSNr"
      },
      "execution_count": null,
      "outputs": []
    }
  ]
}